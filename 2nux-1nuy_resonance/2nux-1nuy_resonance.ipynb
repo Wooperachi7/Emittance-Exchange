{
 "cells": [
  {
   "cell_type": "markdown",
   "id": "b3194759",
   "metadata": {},
   "source": [
    "# 2$\\nu_x - \\nu_y$ Resonance\n",
    "\n",
    "0. [Functions](#chapter0)\n",
    "1. [Pulse/AC Skew Sextupole](#chapter1)\\\n",
    "    1.1 [Single Particle](#chapter1.1)\\\n",
    "    1.2 [Multiparticle](#chapter1.2)\n",
    "2. [Resonance Crossing](#chapter2)\\\n",
    "    2.1 [Single Particle](#chapter2.1)\\\n",
    "    2.2 [Multiparticle](#chapter2.2)\n",
    "3. [AC Skew Sextupole](#chapter3)\\\n",
    "    3.1 [Single Particle](#chapter3.1)\\\n",
    "    3.2 [Multiparticle](#chapter3.2)  "
   ]
  },
  {
   "cell_type": "code",
   "execution_count": 1,
   "id": "92e97302",
   "metadata": {},
   "outputs": [],
   "source": [
    "import numpy as np\n",
    "import matplotlib.pyplot as plt\n",
    "import time\n",
    "import random\n",
    "import matplotlib.animation as animation\n",
    "from IPython.display import display, Math\n",
    "import PyQt5\n",
    "%matplotlib qt\n",
    "\n",
    "#Run all functions before running anything else"
   ]
  },
  {
   "cell_type": "markdown",
   "id": "58be1df7",
   "metadata": {},
   "source": [
    "# 0. Functions <a name=\"chapter0\"></a>"
   ]
  },
  {
   "cell_type": "code",
   "execution_count": 2,
   "id": "1bb8f3da",
   "metadata": {},
   "outputs": [],
   "source": [
    "def epsilon_single(a, b, g, x, xp): return (g*x**2 + 2*a*x*xp + b*xp**2)/2\n",
    "\n",
    "# http://cds.cern.ch/record/242313/files/p89.pdf\n",
    "def epsilon_multi(X, Xp): \n",
    "    r = np.mean(X*Xp)/np.sqrt(np.mean(X**2)*np.mean(Xp**2))\n",
    "    return 4*np.std(X)*np.std(Xp)*np.sqrt(1 - r**2)\n",
    "\n",
    "def M_phase(Twiss):\n",
    "    ax, ay, bx, by, gx, gy, eps_x, eps_y, nu_x, nu_y = Twiss\n",
    "    Sx, Sy = np.sin(2*np.pi*nu_x), np.sin(2*np.pi*nu_y)\n",
    "    Cx, Cy = np.cos(2*np.pi*nu_x), np.cos(2*np.pi*nu_y)\n",
    "    M = np.array([np.array([Cx + ax*Sx, bx*Sx, 0, 0]),\n",
    "                 np.array([-gx*Sx, Cx - ax*Sx, 0, 0]),\n",
    "                 np.array([0, 0, Cy + ay*Sy, by*Sy]),\n",
    "                 np.array([0, 0, -gy*Sy, Cy - ay*Sy])])\n",
    "    return M"
   ]
  },
  {
   "cell_type": "code",
   "execution_count": 14,
   "id": "0f650a0c",
   "metadata": {},
   "outputs": [],
   "source": [
    "def Animation_single(X_hist, buffer, rate):\n",
    "    fig, ax = plt.subplots(figsize = (10, 10))\n",
    "    xPulseSingle, = ax.plot(X_hist[0][0], X_hist[1][0], 'o', label = 'x')\n",
    "    yPulseSingle, = ax.plot(X_hist[2][0], X_hist[3][0], 'o', label = 'y')\n",
    "    xbound = max(np.max(X_hist[0]), np.max(X_hist[2])) + .001\n",
    "    ybound = max(np.max(X_hist[1]), np.max(X_hist[3])) + .001\n",
    "    ax.set_xlim([-xbound, xbound])\n",
    "    ax.set_ylim([-ybound, ybound])\n",
    "    ax.set_xlabel(\"z\")\n",
    "    ax.set_ylabel(r\"$z^'$\")\n",
    "    ax.legend()\n",
    "    title = ax.text(0.5, .95, \"\", bbox={'facecolor':'w', 'alpha':0.5, 'pad':5},\n",
    "                    transform=ax.transAxes, ha=\"center\")\n",
    "\n",
    "    def animate(i):\n",
    "        if i < buffer:\n",
    "            xPulseSingle.set_xdata(X_hist[0][0: i])\n",
    "            xPulseSingle.set_ydata(X_hist[1][0: i])\n",
    "            yPulseSingle.set_xdata(X_hist[2][0: i])\n",
    "            yPulseSingle.set_ydata(X_hist[3][0: i])\n",
    "        else:\n",
    "            xPulseSingle.set_xdata(X_hist[0][i - buffer: i])\n",
    "            xPulseSingle.set_ydata(X_hist[1][i - buffer: i])\n",
    "            yPulseSingle.set_xdata(X_hist[2][i - buffer: i])\n",
    "            yPulseSingle.set_ydata(X_hist[3][i - buffer: i])\n",
    "        title.set_text(\"Phase Space at turn %d\"%i)\n",
    "        return xPulseSingle, yPulseSingle, title,\n",
    "\n",
    "    def init():\n",
    "        xPulseSingle.set_ydata(np.ma.array(X_hist[0], mask=True))\n",
    "        yPulseSingle.set_ydata(np.ma.array(X_hist[2], mask=True))\n",
    "        return xPulseSingle, yPulseSingle,\n",
    "\n",
    "    N_turns = len(X_hist[0])\n",
    "    ani = animation.FuncAnimation(fig, animate, np.arange(1, N_turns), init_func=init,\n",
    "        interval=rate, blit=True)\n",
    "    \n",
    "    return ani\n"
   ]
  },
  {
   "cell_type": "code",
   "execution_count": 4,
   "id": "a8444478",
   "metadata": {},
   "outputs": [],
   "source": [
    "# Visualize exchange\n",
    "def Exchange_single(X_hist, save_txt, ncol = 5, size = 1):\n",
    "    nrow = 2\n",
    "    fig, Ax = plt.subplots(nrow, ncol, figsize = (25, 8))\n",
    "    fig.suptitle('Phase Space For One Particle')\n",
    "    N_turns = len(X_hist[0])\n",
    "    xbound = max(np.max(X_hist[0]), np.max(X_hist[2])) + .001\n",
    "    ybound = max(np.max(X_hist[1]), np.max(X_hist[3])) + .0005\n",
    "\n",
    "    for i in range(nrow):\n",
    "        xlab = \"\"\n",
    "        ylab = \"\"\n",
    "        if i == 0:\n",
    "            xlab = \"x\"\n",
    "            Ax[i][0].set_ylabel(r\"$x^'$\")\n",
    "            \n",
    "        if i == 1:\n",
    "            xlab = \"y\"\n",
    "            Ax[i][0].set_ylabel(r\"$y^'$\")\n",
    "\n",
    "        for j in range(ncol):\n",
    "            initial = N_turns*j//ncol\n",
    "            final = N_turns*(j + 1)//ncol\n",
    "\n",
    "            if final >= N_turns:\n",
    "                final = -1\n",
    "            Ax[i][j].plot(X_hist[i*2][initial: final], \n",
    "                          X_hist[i*2 + 1][initial: final], \"o\", mfc = 'black', ms = size)\n",
    "            Ax[i][j].set_xlabel(xlab)\n",
    "\n",
    "            Ax[i][j].set_xlim([-xbound, xbound])\n",
    "            Ax[i][j].set_ylim([-ybound, ybound])\n",
    "            if i == 0:\n",
    "                if final == -1:\n",
    "                    final = N_turns\n",
    "                Ax[0][j].set_title(\"%d - %d turns\"%(initial, final))\n",
    "            if j != 0:\n",
    "                Ax[i][j].get_yaxis().set_visible(False)\n",
    "    fig.savefig(save_txt)\n",
    "    return Ax       "
   ]
  },
  {
   "cell_type": "code",
   "execution_count": 5,
   "id": "8520af5f",
   "metadata": {},
   "outputs": [],
   "source": [
    "def Animation_multi(X_hist, buffer, rate, nrow = 2, ncol = 5, n = 0):\n",
    "    fig, ax = plt.subplots(figsize = (15, 10))\n",
    "\n",
    "    x_hist = X_hist[0].T\n",
    "\n",
    "    xPulseSingle, = ax.plot(x_hist[0], x_hist[1], 'o', label = 'x')\n",
    "    yPulseSingle, = ax.plot(x_hist[2], x_hist[3], 'o', label = 'y')\n",
    "    xPulseSingle0, = ax.plot(x_hist[0][n], x_hist[1][n], 'o', mec = 'black', mew = '1', mfc = 'blue', ms = 10, label = 'x0')\n",
    "    yPulseSingle0, = ax.plot(x_hist[2][n], x_hist[3][n], 'o', mec = 'black', mew = '1', mfc = 'red', ms = 10, label = 'y0')\n",
    "    xbound = []\n",
    "    ybound = []\n",
    "    factor = N_turns//(ncol - 1)\n",
    "    for i in range(nrow):\n",
    "        for j in range(ncol):\n",
    "            index = factor*j\n",
    "            if factor*j == N_turns:\n",
    "                index = -1\n",
    "            X_hist_sub = X_hist[index].T\n",
    "            xbound.append(np.max(np.abs(X_hist_sub[i*2])))\n",
    "            ybound.append(np.max(np.abs(X_hist_sub[i*2 + 1])))\n",
    "\n",
    "    xbound_Max = np.max(xbound) + .001\n",
    "    ybound_Max = np.max(ybound) + .0005\n",
    "    ax.set_xlim([-xbound_Max, xbound_Max])\n",
    "    ax.set_ylim([-ybound_Max, ybound_Max])\n",
    "    ax.set_xlabel(\"z\")\n",
    "    ax.set_ylabel(r\"$z^'$\")\n",
    "    ax.legend()\n",
    "    title = ax.text(0.5, .9, \"\", bbox={'facecolor':'w', 'alpha':0.5, 'pad':5},\n",
    "                    transform=ax.transAxes, ha=\"center\")\n",
    "\n",
    "    def animate(i):\n",
    "        xPulseSingle.set_xdata(X_hist[i].T[0])\n",
    "        xPulseSingle.set_ydata(X_hist[i].T[1])\n",
    "        yPulseSingle.set_xdata(X_hist[i].T[2])\n",
    "        yPulseSingle.set_ydata(X_hist[i].T[3])\n",
    "        if i < buffer:\n",
    "            xPulseSingle0.set_xdata(X_hist[0: i].T[0][n])\n",
    "            xPulseSingle0.set_ydata(X_hist[0: i].T[1][n])\n",
    "            yPulseSingle0.set_xdata(X_hist[0: i].T[2][n])\n",
    "            yPulseSingle0.set_ydata(X_hist[0: i].T[3][n])\n",
    "        else:\n",
    "            xPulseSingle0.set_xdata(X_hist[i - buffer: i].T[0][n])\n",
    "            xPulseSingle0.set_ydata(X_hist[i - buffer: i].T[1][n])\n",
    "            yPulseSingle0.set_xdata(X_hist[i - buffer: i].T[2][n])\n",
    "            yPulseSingle0.set_ydata(X_hist[i - buffer: i].T[3][n])\n",
    "        title.set_text(\"Phase Space at turn %d\"%i)\n",
    "        return xPulseSingle, xPulseSingle0, yPulseSingle, yPulseSingle0, title,\n",
    "\n",
    "    def init():\n",
    "        xPulseSingle.set_ydata(np.ma.array(x_hist[0], mask=True))\n",
    "        yPulseSingle.set_ydata(np.ma.array(x_hist[2], mask=True))\n",
    "        xPulseSingle0.set_ydata(np.ma.array(x_hist[0], mask=True))\n",
    "        yPulseSingle0.set_ydata(np.ma.array(x_hist[2], mask=True))\n",
    "        return xPulseSingle, xPulseSingle0, yPulseSingle, yPulseSingle0,\n",
    "\n",
    "    ani = animation.FuncAnimation(fig, animate, np.arange(1, N_turns), init_func=init,\n",
    "        interval=rate, blit=True)\n",
    "\n",
    "    return ani"
   ]
  },
  {
   "cell_type": "code",
   "execution_count": 6,
   "id": "f488b145",
   "metadata": {},
   "outputs": [],
   "source": [
    "# Visualize exchange\n",
    "def Exchange_multi(X_hist, save_txt, ncol = 5, size = 1):\n",
    "    nrow = 2\n",
    "\n",
    "    N_turns = len(X_hist)\n",
    "    N_part = len(X_hist[0])\n",
    "    fig, Ax = plt.subplots(nrow, ncol, figsize = (25, 8))\n",
    "    fig.suptitle('Phase Space For %d Particles'%N_part)\n",
    "    xbound = []\n",
    "    ybound = []\n",
    "    factor = N_turns//(ncol - 1)\n",
    "    for i in range(nrow):\n",
    "        for j in range(ncol):\n",
    "            index = factor*j\n",
    "            if factor*j == N_turns:\n",
    "                index = -1\n",
    "            X_hist_sub = X_hist[index].T\n",
    "            xbound.append(np.max(np.abs(X_hist_sub[i*2])))\n",
    "            ybound.append(np.max(np.abs(X_hist_sub[i*2 + 1])))\n",
    "\n",
    "    xbound_Max = np.max(xbound) + .001\n",
    "    ybound_Max = np.max(ybound) + .0005\n",
    "\n",
    "    for i in range(nrow):\n",
    "        xlab = \"\"\n",
    "        ylab = \"\"\n",
    "        if i == 0:\n",
    "            xlab = \"x\"\n",
    "            Ax[i][0].set_ylabel(r\"$x^'$\")\n",
    "            \n",
    "        if i == 1:\n",
    "            xlab = \"y\"\n",
    "            Ax[i][0].set_ylabel(r\"$y^'$\")\n",
    "\n",
    "        for j in range(ncol):\n",
    "            index = factor*j\n",
    "            if factor*j == N_turns:\n",
    "                index = -1\n",
    "            X_hist_sub = X_hist[index].T\n",
    "\n",
    "            Ax[i][j].plot(X_hist_sub[i*2], X_hist_sub[i*2 + 1], \"o\", mfc = 'black', ms = size)\n",
    "            Ax[i][j].set_xlabel(xlab)\n",
    "\n",
    "            Ax[i][j].set_xlim([-xbound_Max, xbound_Max])\n",
    "            Ax[i][j].set_ylim([-ybound_Max, ybound_Max])\n",
    "            Ax[0][j].set_title(\"%d turns\"%(N_turns*j/(ncol - 1)))\n",
    "            if j != 0:\n",
    "                Ax[i][j].get_yaxis().set_visible(False)\n",
    "    fig.savefig(save_txt)\n",
    "    return Ax"
   ]
  },
  {
   "cell_type": "markdown",
   "id": "90e6cb7a",
   "metadata": {},
   "source": [
    "# 1. Pulse/AC Skew Sextupole <a name=\"chapter1\"></a>\n",
    "## 1.1 Single Particle <a name=\"chapter1.1\"></a>"
   ]
  },
  {
   "cell_type": "code",
   "execution_count": 7,
   "id": "3664bcb3",
   "metadata": {},
   "outputs": [],
   "source": [
    "# One particle\n",
    "def Pulse(Twiss, N_turns, initial_turn, final_turn, j3):\n",
    "    ax, ay, bx, by, gx, gy, eps_x, eps_y, nu_x, nu_y = Twiss\n",
    "    M = M_phase(Twiss)\n",
    "    \n",
    "    x0 = np.sqrt(eps_x/gx)\n",
    "    y0 = np.sqrt(eps_y/gy)\n",
    "    xp0 = np.sqrt(eps_x/bx)\n",
    "    yp0 = np.sqrt(eps_y/by)\n",
    "    X_i = np.array([x0, xp0, y0, yp0])\n",
    "    X_f = np.zeros(4)\n",
    "\n",
    "    X_hist = np.zeros([N_turns, 4])\n",
    "    X_hist[0] = X_i\n",
    "\n",
    "    Eps_x = np.zeros(N_turns)\n",
    "    Eps_y = np.zeros(N_turns)\n",
    "    for i in range(N_turns):\n",
    "        X_f = M @ X_i\n",
    "        x, y = X_f[0], X_f[2]\n",
    "        #Turn on Sextupole\n",
    "        if i > initial_turn and i < final_turn:\n",
    "            X_f[1] += j3*x*y\n",
    "            X_f[3] += -j3/2*(y**2 - x**2)\n",
    "        Eps_x[i] = epsilon_single(ax, bx, gx, x, X_f[1])\n",
    "        Eps_y[i] = epsilon_single(ay, by, gy, y, X_f[3])\n",
    "        X_hist[i] = X_f\n",
    "\n",
    "        X_i = X_f\n",
    "\n",
    "    X_hist = X_hist.T\n",
    "    return X_hist, Eps_x, Eps_y"
   ]
  },
  {
   "cell_type": "code",
   "execution_count": 15,
   "id": "56ea50d4",
   "metadata": {},
   "outputs": [
    {
     "data": {
      "text/latex": [
       "$\\displaystyle j_3 = 2.094395$"
      ],
      "text/plain": [
       "<IPython.core.display.Math object>"
      ]
     },
     "metadata": {},
     "output_type": "display_data"
    },
    {
     "ename": "NameError",
     "evalue": "name 'Pulse' is not defined",
     "output_type": "error",
     "traceback": [
      "\u001b[0;31m---------------------------------------------------------------------------\u001b[0m",
      "\u001b[0;31mNameError\u001b[0m                                 Traceback (most recent call last)",
      "Cell \u001b[0;32mIn[15], line 24\u001b[0m\n\u001b[1;32m     21\u001b[0m initial_turn \u001b[38;5;241m=\u001b[39m \u001b[38;5;241m100\u001b[39m\n\u001b[1;32m     22\u001b[0m final_turn \u001b[38;5;241m=\u001b[39m \u001b[38;5;241m240\u001b[39m\n\u001b[0;32m---> 24\u001b[0m X_hist, Eps_x, Eps_y \u001b[38;5;241m=\u001b[39m \u001b[43mPulse\u001b[49m(Twiss, N_turns, initial_turn, final_turn, j3)\n\u001b[1;32m     25\u001b[0m Animation_single(X_hist, \u001b[38;5;241m15\u001b[39m, \u001b[38;5;241m50\u001b[39m)\n",
      "\u001b[0;31mNameError\u001b[0m: name 'Pulse' is not defined"
     ]
    }
   ],
   "source": [
    "# Variables\n",
    "\n",
    "#Twiss\n",
    "eps_x = eps_y = 2.5e-6 #mrad\n",
    "ax = ay = 0\n",
    "bx = 8 #m\n",
    "by = 2 #m\n",
    "gx = (1 + ax**2)/bx\n",
    "gy = (1 + ay**2)/by\n",
    "nu_x = .2\n",
    "nu_y = .4\n",
    "Twiss = ax, ay, bx, by, gx, gy, eps_x, eps_y, nu_x, nu_y\n",
    "\n",
    "#Magnets\n",
    "G_21L = 1\n",
    "L = .75 #m https://www.bnl.gov/cad/accelerator/docs/pdf/rhicconfmanual.pdf p45\n",
    "j3 = G_21L*(8*np.pi)/(np.sqrt(2)*bx*np.sqrt(by)*L) #m^-2\n",
    "display(Math(\"j_3 = %f\"%j3))\n",
    "\n",
    "N_turns = 300\n",
    "initial_turn = 100\n",
    "final_turn = 240\n",
    "\n",
    "X_hist, Eps_x, Eps_y = Pulse(Twiss, N_turns, initial_turn, final_turn, j3)\n",
    "Animation_single(X_hist, 15, 50)"
   ]
  },
  {
   "cell_type": "code",
   "execution_count": 9,
   "id": "05f9d3af",
   "metadata": {},
   "outputs": [
    {
     "data": {
      "text/plain": [
       "array([[<Axes: title={'center': '0 - 60 turns'}, xlabel='x', ylabel=\"$x^'$\">,\n",
       "        <Axes: title={'center': '60 - 120 turns'}, xlabel='x'>,\n",
       "        <Axes: title={'center': '120 - 180 turns'}, xlabel='x'>,\n",
       "        <Axes: title={'center': '180 - 240 turns'}, xlabel='x'>,\n",
       "        <Axes: title={'center': '240 - 300 turns'}, xlabel='x'>],\n",
       "       [<Axes: xlabel='y', ylabel=\"$y^'$\">, <Axes: xlabel='y'>,\n",
       "        <Axes: xlabel='y'>, <Axes: xlabel='y'>, <Axes: xlabel='y'>]],\n",
       "      dtype=object)"
      ]
     },
     "execution_count": 9,
     "metadata": {},
     "output_type": "execute_result"
    }
   ],
   "source": [
    "Exchange_single(X_hist, \"Single particle Pulsed Sextupole.png\", 5, 3)"
   ]
  },
  {
   "cell_type": "code",
   "execution_count": 10,
   "id": "bb16a161",
   "metadata": {},
   "outputs": [],
   "source": [
    "plt.plot(Eps_x, label = r\"$\\epsilon_x$\")\n",
    "plt.plot(Eps_y, label = r\"$\\epsilon_y$\")\n",
    "plt.xlabel(\"# turns\")\n",
    "plt.ylabel(r\"$\\epsilon$\")\n",
    "plt.title('\"Emittance\" Exchange pulsed sextupole')\n",
    "plt.axvline(x = initial_turn, color = \"black\")\n",
    "plt.axvline(x = final_turn, color = \"black\")\n",
    "plt.legend()\n",
    "plt.show()"
   ]
  },
  {
   "cell_type": "code",
   "execution_count": 11,
   "id": "b9444f7b",
   "metadata": {},
   "outputs": [
    {
     "name": "stdout",
     "output_type": "stream",
     "text": [
      "10.471975511965974\n",
      "Time elapsed: 0.7441380023956299\n"
     ]
    }
   ],
   "source": [
    "N_points = 300\n",
    "G_int = np.linspace(0, 5, N_points + 1)\n",
    "L = .75\n",
    "J3 = G_int*(8*np.pi)/(np.sqrt(2)*bx*np.sqrt(by)*L)\n",
    "print(J3[-1])\n",
    "FEG = np.zeros(N_points + 1)\n",
    "\n",
    "begin = time.time()\n",
    "for i, j in enumerate(J3):\n",
    "    X_hist, Eps_x, Eps_y = Pulse(Twiss, N_turns, initial_turn, final_turn, j)\n",
    "    eps_x0 = Eps_x[0]\n",
    "    eps_y0 = Eps_y[0]\n",
    "    eps_xf = Eps_x[-1]\n",
    "    eps_yf = Eps_y[-1]\n",
    "    FEG[i] = np.abs((eps_x0 - eps_xf)/eps_x0) + np.abs((eps_y0 - eps_yf)/eps_y0)\n",
    "end = time.time()\n",
    "print(\"Time elapsed:\", end - begin)\n"
   ]
  },
  {
   "cell_type": "code",
   "execution_count": 13,
   "id": "4da1abb3",
   "metadata": {},
   "outputs": [],
   "source": [
    "plt.plot(G_int, FEG)\n",
    "plt.title(\"Quality of Emittance Exchange\")\n",
    "plt.xlabel(r\"$G_{int}$\")\n",
    "plt.ylabel(\"Fractional Emittance Growth\")\n",
    "plt.show()"
   ]
  },
  {
   "cell_type": "markdown",
   "id": "17abe8ac",
   "metadata": {},
   "source": [
    "## 1.2 Multiparticle <a name=\"chapter1.2\"></a>"
   ]
  },
  {
   "cell_type": "code",
   "execution_count": 14,
   "id": "7592d737",
   "metadata": {},
   "outputs": [],
   "source": [
    "# Multiparticle\n",
    "def Pulse2(Twiss, N_turns, N_part, initial_turn, final_turn, j3):\n",
    "    ax, ay, bx, by, gx, gy, eps_x, eps_y, nu_x, nu_y = Twiss\n",
    "    M = M_phase(Twiss)\n",
    "    \n",
    "    #Bounds of ellipse\n",
    "    x0 = np.sqrt(eps_x/gx)\n",
    "    y0 = np.sqrt(eps_y/gy)\n",
    "    xp0 = np.sqrt(eps_x/bx)\n",
    "    yp0 = np.sqrt(eps_y/by)\n",
    "    Part_x = np.random.uniform(-x0, x0, N_part)\n",
    "    Part_y = np.random.uniform(-y0, y0, N_part)\n",
    "    Part_xp = np.random.uniform(-xp0, xp0, N_part)\n",
    "    Part_yp = np.random.uniform(-yp0, yp0, N_part)\n",
    "    X_i = []\n",
    "    for i in range(N_part):\n",
    "        if gx*Part_x[i]**2 + bx*Part_xp[i]**2 < eps_x and gy*Part_y[i]**2 + by*Part_yp[i]**2 < eps_x:\n",
    "            X_i.append(np.array([Part_x[i], Part_xp[i], Part_y[i], Part_yp[i]]))\n",
    "\n",
    "    N_part = len(X_i)\n",
    "    X_i = np.array(X_i).T\n",
    "\n",
    "    X_hist = np.zeros([N_turns, N_part, 4])\n",
    "    X_f = np.zeros([N_part, 4])\n",
    "    \n",
    "    Eps_x = np.zeros(N_turns)\n",
    "    Eps_y = np.zeros(N_turns)\n",
    "    for i in range(N_turns):\n",
    "        X_f = M @ X_i\n",
    "        x, y = X_f[0], X_f[2]\n",
    "        #Turn on Sextupole\n",
    "        if i > initial_turn and i < final_turn:\n",
    "            X_f[1] += j3*x*y\n",
    "            X_f[3] += -j3/2*(y**2 - x**2)\n",
    "        Eps_x[i] = epsilon_multi(X_f[0], X_f[1]) #epsilon(ax, bx, gx, np.max(np.abs(X_f.T[0])), np.max(np.abs(X_f.T[1])))\n",
    "        Eps_y[i] = epsilon_multi(X_f[2], X_f[3]) #epsilon(ay, by, gy, np.max(np.abs(X_f.T[2])), np.max(np.abs(X_f.T[3]))) \n",
    "        X_hist[i] = X_f.T\n",
    "\n",
    "        X_i = X_f\n",
    "\n",
    "    return X_hist, Eps_x, Eps_y"
   ]
  },
  {
   "cell_type": "code",
   "execution_count": 71,
   "id": "c6a52b47",
   "metadata": {},
   "outputs": [
    {
     "data": {
      "text/latex": [
       "$\\displaystyle j_3 = 2.094395$"
      ],
      "text/plain": [
       "<IPython.core.display.Math object>"
      ]
     },
     "metadata": {},
     "output_type": "display_data"
    },
    {
     "data": {
      "text/plain": [
       "<matplotlib.animation.FuncAnimation at 0x7fe5b152a7c0>"
      ]
     },
     "execution_count": 71,
     "metadata": {},
     "output_type": "execute_result"
    }
   ],
   "source": [
    "# Variables\n",
    "\n",
    "#Twiss\n",
    "eps_x = eps_y = 2.5e-6 #m\n",
    "ax = ay = 0\n",
    "bx = 8 #m\n",
    "by = 2 #m\n",
    "gx = (1 + ax**2)/bx\n",
    "gy = (1 + ay**2)/by\n",
    "nu_x = .2\n",
    "nu_y = .4\n",
    "Twiss = ax, ay, bx, by, gx, gy, eps_x, eps_y, nu_x, nu_y\n",
    "\n",
    "#Magnets\n",
    "G_21L = 1\n",
    "L = .75 #m https://www.bnl.gov/cad/accelerator/docs/pdf/rhicconfmanual.pdf p45\n",
    "j3 = G_21L*(8*np.pi)/(np.sqrt(2)*bx*np.sqrt(by)*L) #m^-2\n",
    "display(Math(\"j_3 = %f\"%j3))\n",
    "\n",
    "N_turns = 300\n",
    "N_part = 1000\n",
    "initial_turn = 100\n",
    "final_turn = 240\n",
    "nrow = 2\n",
    "ncol = 5\n",
    "\n",
    "X_hist, Eps_x, Eps_y = Pulse2(Twiss, N_turns, int(N_part//.625), initial_turn, final_turn, j3)\n",
    "Animation_multi(X_hist, 15, 50, nrow, ncol, 0)"
   ]
  },
  {
   "cell_type": "code",
   "execution_count": 16,
   "id": "76038e6c",
   "metadata": {},
   "outputs": [
    {
     "data": {
      "text/plain": [
       "array([[<Axes: title={'center': '0 turns'}, xlabel='x', ylabel=\"$x^'$\">,\n",
       "        <Axes: title={'center': '75 turns'}, xlabel='x'>,\n",
       "        <Axes: title={'center': '150 turns'}, xlabel='x'>,\n",
       "        <Axes: title={'center': '225 turns'}, xlabel='x'>,\n",
       "        <Axes: title={'center': '300 turns'}, xlabel='x'>],\n",
       "       [<Axes: xlabel='y', ylabel=\"$y^'$\">, <Axes: xlabel='y'>,\n",
       "        <Axes: xlabel='y'>, <Axes: xlabel='y'>, <Axes: xlabel='y'>]],\n",
       "      dtype=object)"
      ]
     },
     "execution_count": 16,
     "metadata": {},
     "output_type": "execute_result"
    }
   ],
   "source": [
    "Exchange_multi(X_hist, \"Multiparticle Pulsed Sextupole.png\", ncol = 5)"
   ]
  },
  {
   "cell_type": "code",
   "execution_count": 17,
   "id": "879c0847",
   "metadata": {},
   "outputs": [
    {
     "name": "stdout",
     "output_type": "stream",
     "text": [
      "Ratio = 2.846035995528796\n"
     ]
    }
   ],
   "source": [
    "fig, ax = plt.subplots(figsize = (10, 10))\n",
    "ax.plot(Eps_x, label = r\"$\\epsilon_x$\")\n",
    "ax.plot(Eps_y, label = r\"$\\epsilon_y$\")\n",
    "\n",
    "# kernel_size = 5\n",
    "# kernel = np.ones(kernel_size) / kernel_size\n",
    "# Eps_x_smooth = np.convolve(Eps_x, kernel, mode='valid')\n",
    "# Eps_y_smooth = np.convolve(Eps_y, kernel, mode='valid')\n",
    "# ax.plot(Eps_x_smooth, color = \"blue\", label = r\"$\\overline{\\epsilon_x}$\")\n",
    "# ax.plot(Eps_y_smooth, color = \"red\", label = r\"$\\overline{\\epsilon_y}$\")\n",
    "ax.set_xlabel(\"# turns\")\n",
    "ax.set_ylabel(r\"$\\epsilon$\")\n",
    "ax.set_title(\"Emittance Exchange pulsed sextupole\")\n",
    "ax.axvline(x = initial_turn, color = \"black\")\n",
    "ax.axvline(x = final_turn, color = \"black\")\n",
    "ax.legend()\n",
    "fig.savefig(\"Emittance Exchange pulsed sextupole\")\n",
    "plt.show()\n",
    "print(\"Ratio =\", Eps_x[-1]/Eps_y[-1])"
   ]
  },
  {
   "cell_type": "code",
   "execution_count": 72,
   "id": "b2a9f067",
   "metadata": {},
   "outputs": [
    {
     "name": "stdout",
     "output_type": "stream",
     "text": [
      "10.471975511965974\n",
      "Time elapsed: 26.23451018333435\n"
     ]
    }
   ],
   "source": [
    "N_points = 300\n",
    "G_int = np.linspace(0, 5, N_points + 1)\n",
    "L = .75\n",
    "J3 = G_int*(8*np.pi)/(np.sqrt(2)*bx*np.sqrt(by)*L)\n",
    "print(J3[-1])\n",
    "FEG = np.zeros(N_points + 1)\n",
    "\n",
    "begin = time.time()\n",
    "for i, j in enumerate(J3):\n",
    "    X_hist, Eps_x, Eps_y = Pulse2(Twiss, N_turns, N_part, initial_turn, final_turn, j)\n",
    "    eps_x0 = Eps_x[0]\n",
    "    eps_y0 = Eps_y[0]\n",
    "    eps_xf = Eps_x[-1]\n",
    "    eps_yf = Eps_y[-1]\n",
    "    FEG[i] = np.abs((eps_x0 - eps_xf)/eps_x0) + np.abs((eps_y0 - eps_yf)/eps_y0)\n",
    "end = time.time()\n",
    "print(\"Time elapsed:\", end - begin)\n"
   ]
  },
  {
   "cell_type": "code",
   "execution_count": 73,
   "id": "02225517",
   "metadata": {},
   "outputs": [],
   "source": [
    "fig, ax = plt.subplots(figsize = (10, 10))\n",
    "# kernel_size = 20\n",
    "# kernel = np.ones(kernel_size)/kernel_size\n",
    "# FEG_smooth = np.convolve(FEG, kernel, mode = 'valid')\n",
    "ax.plot(G_int, FEG)\n",
    "ax.set_title(\"Quality of Emittance Exchange\")\n",
    "ax.set_xlabel(r\"$G_{int}$\")\n",
    "ax.set_ylabel(\"Fractional Emittance Growth\")\n",
    "fig.savefig(\"Quality of Emittance Exchange for Pulsed Sextupole\")\n",
    "plt.show()"
   ]
  },
  {
   "cell_type": "markdown",
   "id": "aeb4a144",
   "metadata": {},
   "source": [
    "# 2. Resonance Crossing <a name=\"chapter2\"></a>\n",
    "## 2.1 Single Particle <a name=\"chapter2.1\"></a>"
   ]
  },
  {
   "cell_type": "code",
   "execution_count": 12,
   "id": "ade3202e",
   "metadata": {},
   "outputs": [],
   "source": [
    "# One particle crossing\n",
    "def Cross(Twiss, N_turns, j3):\n",
    "    ax, ay, bx, by, gx, gy, eps_x, eps_y, nu_xi, nu_xf, nu_y = Twiss\n",
    "    Nu_x = np.linspace(nu_xi, nu_xf, N_turns + 1)\n",
    "    \n",
    "    x0 = np.sqrt(eps_x/gx)\n",
    "    y0 = np.sqrt(eps_y/gy)\n",
    "    xp0 = np.sqrt(eps_x/bx)\n",
    "    yp0 = np.sqrt(eps_y/by)\n",
    "    X_i = np.array([x0, xp0, y0, yp0])\n",
    "    X_f = np.zeros(4)\n",
    "    X_hist = np.zeros([N_turns, 4])\n",
    "    X_hist[0] = X_i\n",
    "\n",
    "    Eps_x = np.zeros(N_turns)\n",
    "    Eps_y = np.zeros(N_turns)\n",
    "    for i in range(N_turns):\n",
    "        twiss = ax, ay, bx, by, gx, gy, eps_x, eps_y, Nu_x[i], nu_y\n",
    "        M = M_phase(twiss)\n",
    "        \n",
    "        X_f = M @ X_i\n",
    "        x, y = X_f[0], X_f[2]\n",
    "        X_f[1] += j3*x*y\n",
    "        X_f[3] += -j3/2*(y**2 - x**2)\n",
    "        Eps_x[i] = epsilon_single(ax, bx, gx, x, X_f[1])\n",
    "        Eps_y[i] = epsilon_single(ay, by, gy, y, X_f[3])\n",
    "        X_hist[i] = X_f\n",
    "\n",
    "        X_i = X_f\n",
    "\n",
    "    X_hist = X_hist.T\n",
    "    return X_hist, Eps_x, Eps_y, Nu_x"
   ]
  },
  {
   "cell_type": "code",
   "execution_count": 13,
   "id": "4181ace0",
   "metadata": {},
   "outputs": [
    {
     "data": {
      "text/latex": [
       "$\\displaystyle j_3 = 6.266667$"
      ],
      "text/plain": [
       "<IPython.core.display.Math object>"
      ]
     },
     "metadata": {},
     "output_type": "display_data"
    },
    {
     "data": {
      "text/latex": [
       "$\\displaystyle G_{2,-1,l} = 2.992113$"
      ],
      "text/plain": [
       "<IPython.core.display.Math object>"
      ]
     },
     "metadata": {},
     "output_type": "display_data"
    },
    {
     "data": {
      "text/plain": [
       "<matplotlib.animation.FuncAnimation at 0x7f85e3de91f0>"
      ]
     },
     "execution_count": 13,
     "metadata": {},
     "output_type": "execute_result"
    }
   ],
   "source": [
    "# Variables\n",
    "\n",
    "#Twiss\n",
    "eps_x = eps_y = 2.5e-6 #m\n",
    "ax = ay = 0\n",
    "bx = 8 #m\n",
    "by = 2 #m\n",
    "gx = (1 + ax**2)/bx\n",
    "gy = (1 + ay**2)/by\n",
    "nu_xi, nu_xf = .225, .175\n",
    "#change nu_y\n",
    "nu_y = .413\n",
    "Twiss = ax, ay, bx, by, gx, gy, eps_x, eps_y, nu_xi, nu_xf, nu_y\n",
    "\n",
    "#Magnets\n",
    "j3L = 4.7\n",
    "L = .75\n",
    "j3 = j3L/L\n",
    "display(Math(\"j_3 = %f\"%j3))\n",
    "G_21L = np.sqrt(2)/(8*np.pi)*bx*np.sqrt(by)*j3L #m^-.5\n",
    "display(Math(\"G_{2,-1,l} = %f\"%G_21L))\n",
    "\n",
    "N_turns = 5000\n",
    "delta_dot = (nu_xf - nu_xi)/N_turns\n",
    "\n",
    "X_hist, Eps_x, Eps_y, Nu_x = Cross(Twiss, N_turns, j3)\n",
    "Animation_single(X_hist, 100, 1)"
   ]
  },
  {
   "cell_type": "code",
   "execution_count": 10,
   "id": "a0c67f57",
   "metadata": {},
   "outputs": [
    {
     "data": {
      "text/plain": [
       "array([[<Axes: title={'center': '0 - 1000 turns'}, xlabel='x', ylabel=\"$x^'$\">,\n",
       "        <Axes: title={'center': '1000 - 2000 turns'}, xlabel='x'>,\n",
       "        <Axes: title={'center': '2000 - 3000 turns'}, xlabel='x'>,\n",
       "        <Axes: title={'center': '3000 - 4000 turns'}, xlabel='x'>,\n",
       "        <Axes: title={'center': '4000 - 5000 turns'}, xlabel='x'>],\n",
       "       [<Axes: xlabel='y', ylabel=\"$y^'$\">, <Axes: xlabel='y'>,\n",
       "        <Axes: xlabel='y'>, <Axes: xlabel='y'>, <Axes: xlabel='y'>]],\n",
       "      dtype=object)"
      ]
     },
     "execution_count": 10,
     "metadata": {},
     "output_type": "execute_result"
    }
   ],
   "source": [
    "Exchange_single(X_hist, \"Single particle Resonance Crossing.png\", 5, 1, Nu_x)"
   ]
  },
  {
   "cell_type": "code",
   "execution_count": 11,
   "id": "60b3e099",
   "metadata": {},
   "outputs": [],
   "source": [
    "plt.plot(Eps_x, label = r\"$\\epsilon_x$\")\n",
    "plt.plot(Eps_y, label = r\"$\\epsilon_y$\")\n",
    "\n",
    "kernel_size = N_turns//20\n",
    "kernel = np.ones(kernel_size) / kernel_size\n",
    "Eps_x_smooth = np.convolve(Eps_x, kernel, mode='valid') #same, full\n",
    "Eps_y_smooth = np.convolve(Eps_y, kernel, mode='valid')\n",
    "plt.plot(Eps_x_smooth, color = \"blue\", label = r\"$\\overline{\\epsilon_x}$\")\n",
    "plt.plot(Eps_y_smooth, color = \"red\", label = r\"$\\overline{\\epsilon_y}$\")\n",
    "plt.xlabel(\"# turns\")\n",
    "plt.ylabel(r\"$\\epsilon$\")\n",
    "plt.title('\"Emittance\" Exchange Resonance Crossing')\n",
    "plt.legend()\n",
    "plt.show()"
   ]
  },
  {
   "cell_type": "code",
   "execution_count": 26,
   "id": "df18b459",
   "metadata": {},
   "outputs": [
    {
     "name": "stdout",
     "output_type": "stream",
     "text": [
      "2.1157109383040864\n",
      "Time elapsed: 11.633929014205933\n"
     ]
    }
   ],
   "source": [
    "N_points = 100\n",
    "J3 = np.linspace(0, 5, N_points + 1)\n",
    "L = .75\n",
    "G_21L = np.sqrt(2)/(8*np.pi)*bx*np.sqrt(by)*J3*L #m^-.5\n",
    "G_eff = G_21L*np.sqrt(eps_x*np.pi/np.abs(delta_dot))\n",
    "print(G_eff[-1])\n",
    "\n",
    "spread = N_turns//10\n",
    "FEG = np.zeros(N_points + 1)\n",
    "\n",
    "begin = time.time()\n",
    "for i, j in enumerate(J3):\n",
    "    X_hist, Eps_x, Eps_y = Cross(Twiss, N_turns, j)\n",
    "    eps_x0 = Eps_x[0]\n",
    "    eps_y0 = Eps_y[0]\n",
    "    eps_xf = np.mean(Eps_x[N_turns - spread: -1])\n",
    "    eps_yf = np.mean(Eps_y[N_turns - spread: -1])\n",
    "    FEG[i] = np.abs((eps_x0 - eps_xf)/eps_x0) + np.abs((eps_y0 - eps_yf)/eps_y0)\n",
    "end = time.time()\n",
    "print(\"Time elapsed:\", end - begin)"
   ]
  },
  {
   "cell_type": "code",
   "execution_count": 27,
   "id": "d70c57b0",
   "metadata": {},
   "outputs": [],
   "source": [
    "plt.plot(G_eff, FEG)\n",
    "plt.title(\"Quality of Emittance Exchange\")\n",
    "plt.xlabel(r\"$G_{eff}$\")\n",
    "plt.ylabel(\"Fractional Emittance Growth\")\n",
    "plt.show()"
   ]
  },
  {
   "cell_type": "markdown",
   "id": "ca66d863",
   "metadata": {},
   "source": [
    "## 2.2 Multiparticle <a name=\"chapter2.2\"></a>"
   ]
  },
  {
   "cell_type": "code",
   "execution_count": 17,
   "id": "10bb73e5",
   "metadata": {},
   "outputs": [],
   "source": [
    "# Multiparticle\n",
    "def Cross2(Twiss, N_turns, N_part, j3):\n",
    "    ax, ay, bx, by, gx, gy, eps_x, eps_y, nu_xi, nu_xf, nu_y = Twiss\n",
    "    Nu_x = np.linspace(nu_xi, nu_xf, N_turns + 1)\n",
    "    \n",
    "    #Bounds of ellipse\n",
    "    x0 = np.sqrt(eps_x/gx)\n",
    "    y0 = np.sqrt(eps_y/gy)\n",
    "    xp0 = np.sqrt(eps_x/bx)\n",
    "    yp0 = np.sqrt(eps_y/by)\n",
    "    Part_x = np.random.uniform(-x0, x0, N_part)\n",
    "    Part_y = np.random.uniform(-y0, y0, N_part)\n",
    "    Part_xp = np.random.uniform(-xp0, xp0, N_part)\n",
    "    Part_yp = np.random.uniform(-yp0, yp0, N_part)\n",
    "    X_i = []\n",
    "    for i in range(N_part):\n",
    "        if gx*Part_x[i]**2 + bx*Part_xp[i]**2 < eps_x and gy*Part_y[i]**2 + by*Part_yp[i]**2 < eps_x:\n",
    "            X_i.append(np.array([Part_x[i], Part_xp[i], Part_y[i], Part_yp[i]]))\n",
    "\n",
    "    N_part = len(X_i)\n",
    "    X_i = np.array(X_i).T\n",
    "\n",
    "    X_hist = np.zeros([N_turns, N_part, 4])\n",
    "    X_hist[0] = X_i.T\n",
    "    X_f = np.zeros([4, N_part])\n",
    "    Eps_x = np.zeros(N_turns)\n",
    "    Eps_y = np.zeros(N_turns)\n",
    "    for i in range(N_turns):\n",
    "        twiss = ax, ay, bx, by, gx, gy, eps_x, eps_y, Nu_x[i], nu_y\n",
    "        M = M_phase(twiss)\n",
    "        X_f = M @ X_i\n",
    "        x, y = X_f[0], X_f[2]\n",
    "        X_f[1] += j3*x*y\n",
    "        X_f[3] += -j3/2*(y**2 - x**2)\n",
    "        Eps_x[i] = epsilon_multi(X_f[0], X_f[1]) #epsilon(ax, bx, gx, np.max(np.abs(X_f.T[0])), np.max(np.abs(X_f.T[1])))\n",
    "        Eps_y[i] = epsilon_multi(X_f[2], X_f[3]) #epsilon(ay, by, gy, np.max(np.abs(X_f.T[2])), np.max(np.abs(X_f.T[3]))) \n",
    "        X_hist[i] = X_f.T\n",
    "\n",
    "        X_i = X_f\n",
    "\n",
    "    return X_hist, Eps_x, Eps_y"
   ]
  },
  {
   "cell_type": "code",
   "execution_count": 61,
   "id": "b853572c",
   "metadata": {},
   "outputs": [
    {
     "data": {
      "text/latex": [
       "$\\displaystyle j_3 = 6.266667$"
      ],
      "text/plain": [
       "<IPython.core.display.Math object>"
      ]
     },
     "metadata": {},
     "output_type": "display_data"
    },
    {
     "data": {
      "text/latex": [
       "$\\displaystyle G_{2,-1,l} = 2.992113$"
      ],
      "text/plain": [
       "<IPython.core.display.Math object>"
      ]
     },
     "metadata": {},
     "output_type": "display_data"
    },
    {
     "name": "stdout",
     "output_type": "stream",
     "text": [
      "Time elapsed: 2.304208993911743\n"
     ]
    }
   ],
   "source": [
    "# Variables\n",
    "\n",
    "#Twiss\n",
    "eps_x = eps_y = 2.5e-6 #m\n",
    "ax = ay = 0\n",
    "bx = 8 #m\n",
    "by = 2 #m\n",
    "gx = (1 + ax**2)/bx\n",
    "gy = (1 + ay**2)/by\n",
    "nu_xi, nu_xf = .225, .175\n",
    "nu_y = .4\n",
    "Twiss = ax, ay, bx, by, gx, gy, eps_x, eps_y, nu_xi, nu_xf, nu_y\n",
    "\n",
    "#Magnets\n",
    "j3L = 4.7\n",
    "L = .75\n",
    "j3 = j3L/L\n",
    "display(Math(\"j_3 = %f\"%j3))\n",
    "G_21L = np.sqrt(2)/(8*np.pi)*bx*np.sqrt(by)*j3L #m^-.5\n",
    "display(Math(\"G_{2,-1,l} = %f\"%G_21L))\n",
    "\n",
    "N_turns = 5000\n",
    "N_part = 1000\n",
    "delta_dot = (nu_xf - nu_xi)/N_turns\n",
    "\n",
    "begin = time.time()\n",
    "X_hist, Eps_x, Eps_y = Cross2(Twiss, N_turns, int(N_part/.6), j3)\n",
    "end = time.time()\n",
    "print(\"Time elapsed:\", end - begin)"
   ]
  },
  {
   "cell_type": "code",
   "execution_count": 63,
   "id": "b6484ee9",
   "metadata": {},
   "outputs": [
    {
     "data": {
      "text/plain": [
       "<matplotlib.animation.FuncAnimation at 0x7f857f59eee0>"
      ]
     },
     "execution_count": 63,
     "metadata": {},
     "output_type": "execute_result"
    }
   ],
   "source": [
    "Animation_multi(X_hist, 100, 1)"
   ]
  },
  {
   "cell_type": "code",
   "execution_count": 64,
   "id": "35070fd6",
   "metadata": {},
   "outputs": [
    {
     "data": {
      "text/plain": [
       "array([[<Axes: title={'center': '0 turns'}, xlabel='x', ylabel=\"$x^'$\">,\n",
       "        <Axes: title={'center': '1250 turns'}, xlabel='x'>,\n",
       "        <Axes: title={'center': '2500 turns'}, xlabel='x'>,\n",
       "        <Axes: title={'center': '3750 turns'}, xlabel='x'>,\n",
       "        <Axes: title={'center': '5000 turns'}, xlabel='x'>],\n",
       "       [<Axes: xlabel='y', ylabel=\"$y^'$\">, <Axes: xlabel='y'>,\n",
       "        <Axes: xlabel='y'>, <Axes: xlabel='y'>, <Axes: xlabel='y'>]],\n",
       "      dtype=object)"
      ]
     },
     "execution_count": 64,
     "metadata": {},
     "output_type": "execute_result"
    }
   ],
   "source": [
    "Exchange_multi(X_hist, \"Multiparticle Resonance Crossing.png\", 5, 1)"
   ]
  },
  {
   "cell_type": "code",
   "execution_count": 66,
   "id": "21cf5d52",
   "metadata": {},
   "outputs": [
    {
     "name": "stdout",
     "output_type": "stream",
     "text": [
      "Ratio = 4.187260221311241\n"
     ]
    }
   ],
   "source": [
    "fig, ax = plt.subplots(figsize = (10, 10))\n",
    "plt.plot(Eps_x, label = r\"$\\epsilon_x$\")\n",
    "plt.plot(Eps_y, label = r\"$\\epsilon_y$\")\n",
    "# kernel_size = N_turns//20\n",
    "# kernel = np.ones(kernel_size) / kernel_size\n",
    "# Eps_x_smooth = np.convolve(Eps_x, kernel, mode='valid')\n",
    "# Eps_y_smooth = np.convolve(Eps_y, kernel, mode='valid')\n",
    "# plt.plot(Eps_x_smooth, color = \"blue\", label = r\"$\\overline{\\epsilon_x}$\")\n",
    "# plt.plot(Eps_y_smooth, color = \"red\", label = r\"$\\overline{\\epsilon_y}$\")\n",
    "ax.set_xlabel(\"# turns\")\n",
    "ax.set_ylabel(r\"$\\epsilon$\")\n",
    "ax.set_title(\"Emittance Exchange via Resonance crossing\")\n",
    "ax.legend()\n",
    "fig.savefig(\"Emittance Exchange via Resonance crossing\")\n",
    "plt.show()\n",
    "print(\"Ratio =\", np.mean(Eps_x[int(N_turns*.8):])/np.mean(Eps_y[int(N_turns*.8):]))"
   ]
  },
  {
   "cell_type": "code",
   "execution_count": 69,
   "id": "6adaba80",
   "metadata": {},
   "outputs": [
    {
     "name": "stdout",
     "output_type": "stream",
     "text": [
      "6.34713281491226\n",
      "Time elapsed: 211.91766595840454\n"
     ]
    }
   ],
   "source": [
    "N_points = 100\n",
    "J3 = np.linspace(0, 15, N_points + 1)\n",
    "L = .75\n",
    "G_21L = np.sqrt(2)/(8*np.pi)*bx*np.sqrt(by)*J3*L #m^-.5\n",
    "G_eff = G_21L*np.sqrt(eps_x*np.pi/np.abs(delta_dot))\n",
    "print(G_eff[-1])\n",
    "    \n",
    "spread = N_turns//10\n",
    "FEG = np.zeros(N_points + 1)\n",
    "\n",
    "begin = time.time()\n",
    "for i, j in enumerate(J3):\n",
    "    X_hist, Eps_x, Eps_y = Cross2(Twiss, N_turns, N_part, j)\n",
    "    eps_x0 = Eps_x[0]\n",
    "    eps_y0 = Eps_y[0]\n",
    "    eps_xf = np.mean(Eps_x[N_turns - spread: -1])\n",
    "    eps_yf = np.mean(Eps_y[N_turns - spread: -1])\n",
    "    FEG[i] = np.abs((eps_x0 - eps_xf)/eps_x0) + np.abs((eps_y0 - eps_yf)/eps_y0)\n",
    "end = time.time()\n",
    "print(\"Time elapsed:\", end - begin)"
   ]
  },
  {
   "cell_type": "code",
   "execution_count": 70,
   "id": "9efc91be",
   "metadata": {},
   "outputs": [],
   "source": [
    "fig, ax = plt.subplots(figsize = (10, 10))\n",
    "plt.plot(G_eff, FEG)\n",
    "ax.set_title(\"Quality of Emittance Exchange\")\n",
    "ax.set_xlabel(r\"$G_{eff}$\")\n",
    "ax.set_ylabel(\"Fractional Emittance Growth\")\n",
    "fig.savefig(\"Quality of Emittance Exchange for Resonance Crossing\")\n",
    "plt.show()"
   ]
  },
  {
   "cell_type": "markdown",
   "id": "c7abdca3",
   "metadata": {},
   "source": [
    "Vary crossing speed"
   ]
  },
  {
   "cell_type": "code",
   "execution_count": 61,
   "id": "32b02560",
   "metadata": {},
   "outputs": [
    {
     "name": "stdout",
     "output_type": "stream",
     "text": [
      "Time elapsed: 104.19185304641724\n"
     ]
    }
   ],
   "source": [
    "N_points = 100\n",
    "N_Turns = np.linspace(1000, 5000, N_points + 1)\n",
    "Delta_dot = (nu_xf - nu_xi)/N_Turns\n",
    "\n",
    "spread = N_turns//10\n",
    "FEG = np.zeros(N_points + 1)\n",
    "begin = time.time()\n",
    "for i, turns in enumerate(N_Turns):\n",
    "    _, Eps_x, Eps_y = Cross2(Twiss, int(turns), int(N_part/.6), j3)\n",
    "    eps_x0 = Eps_x[0]\n",
    "    eps_y0 = Eps_y[0]\n",
    "    eps_xf = np.mean(Eps_x[N_turns - spread: -1])\n",
    "    eps_yf = np.mean(Eps_y[N_turns - spread: -1])\n",
    "    FEG[i] = np.abs((eps_x0 - eps_xf)/eps_x0) + np.abs((eps_y0 - eps_yf)/eps_y0)\n",
    "end = time.time()\n",
    "print(\"Time elapsed:\", end - begin)"
   ]
  },
  {
   "cell_type": "code",
   "execution_count": 67,
   "id": "baa886ff",
   "metadata": {},
   "outputs": [],
   "source": [
    "fig, ax = plt.subplots(figsize = (10, 10))\n",
    "plt.plot(Delta_dot, FEG)\n",
    "ax.set_title(\"Quality of Emittance Exchange vs Crossing Speed\")\n",
    "ax.set_xlabel(r\"$\\dot{\\delta}$\")\n",
    "ax.set_ylabel(\"Fractional Emittance Growth\")\n",
    "fig.savefig(\"Quality of Emittance Exchange vs Crossing Speed\")\n",
    "plt.show()"
   ]
  },
  {
   "cell_type": "markdown",
   "id": "7cc3fa48",
   "metadata": {},
   "source": [
    "# 3. AC Skew Sextupole <a name=\"chapter3\"></a>\n",
    "## 3.1 Single Particle <a name=\"chapter3.1\"></a>"
   ]
  },
  {
   "cell_type": "code",
   "execution_count": 34,
   "id": "ad5fbbd8",
   "metadata": {},
   "outputs": [],
   "source": [
    "# One particle crossing\n",
    "def AC(Twiss, N_turns, j3):\n",
    "    ax, ay, bx, by, gx, gy, eps_x, eps_y, nu_x, nu_y = Twiss\n",
    "    M = M_phase(Twiss)\n",
    "    nu_osc = abs(2*nu_x - nu_y)\n",
    "    Nu_osc = np.linspace(0, nu_osc, N_turns + 1)\n",
    "    t = np.linspace(0, N_turns, N_turns + 1)\n",
    "    J3_osc = j3*np.sin(2*np.pi*Nu_osc*t)\n",
    "#     plt.plot(t, J3_osc)\n",
    "#     plt.show()\n",
    "    \n",
    "    x0 = np.sqrt(eps_x/gx)\n",
    "    y0 = np.sqrt(eps_y/gy)\n",
    "    xp0 = np.sqrt(eps_x/bx)\n",
    "    yp0 = np.sqrt(eps_y/by)\n",
    "    X_i = np.array([x0, xp0, y0, yp0])\n",
    "    X_f = np.zeros(4)\n",
    "    X_hist = np.zeros([N_turns, 4])\n",
    "    X_hist[0] = X_i\n",
    "\n",
    "    Eps_x = np.zeros(N_turns)\n",
    "    Eps_y = np.zeros(N_turns)\n",
    "    for i in range(N_turns):\n",
    "        \n",
    "        X_f = M @ X_i\n",
    "        x, y = X_f[0], X_f[2]\n",
    "        X_f[1] += J3_osc[i]*x*y\n",
    "        X_f[3] += -J3_osc[i]/2*(y**2 - x**2)\n",
    "        Eps_x[i] = epsilon_single(ax, bx, gx, x, X_f[1])\n",
    "        Eps_y[i] = epsilon_single(ay, by, gy, y, X_f[3])\n",
    "        X_hist[i] = X_f\n",
    "\n",
    "        X_i = X_f\n",
    "\n",
    "    X_hist = X_hist.T\n",
    "    return X_hist, Eps_x, Eps_y"
   ]
  },
  {
   "cell_type": "code",
   "execution_count": 35,
   "id": "ed37a2e4",
   "metadata": {},
   "outputs": [
    {
     "data": {
      "text/latex": [
       "$\\displaystyle j_3 = 2.094395$"
      ],
      "text/plain": [
       "<IPython.core.display.Math object>"
      ]
     },
     "metadata": {},
     "output_type": "display_data"
    },
    {
     "data": {
      "text/plain": [
       "<matplotlib.animation.FuncAnimation at 0x7fe6509a0b20>"
      ]
     },
     "execution_count": 35,
     "metadata": {},
     "output_type": "execute_result"
    }
   ],
   "source": [
    "# Variables\n",
    "\n",
    "#Twiss\n",
    "eps_x = eps_y = 2.5e-6 #mrad\n",
    "ax = ay = 0\n",
    "bx = 8 #m\n",
    "by = 2 #m\n",
    "gx = (1 + ax**2)/bx\n",
    "gy = (1 + ay**2)/by\n",
    "nu_x = .2\n",
    "nu_y = .42\n",
    "Twiss = ax, ay, bx, by, gx, gy, eps_x, eps_y, nu_x, nu_y\n",
    "\n",
    "#Magnets\n",
    "G_21L = 1\n",
    "L = .75 #m https://www.bnl.gov/cad/accelerator/docs/pdf/rhicconfmanual.pdf p45\n",
    "j3 = G_21L*(8*np.pi)/(np.sqrt(2)*bx*np.sqrt(by)*L) #m^-2\n",
    "display(Math(\"j_3 = %f\"%j3))\n",
    "\n",
    "N_turns = 8000\n",
    "\n",
    "X_hist, Eps_x, Eps_y = AC(Twiss, N_turns, j3)\n",
    "Animation_single(X_hist, 50, 1)"
   ]
  },
  {
   "cell_type": "code",
   "execution_count": 36,
   "id": "6166e67c",
   "metadata": {},
   "outputs": [
    {
     "data": {
      "text/plain": [
       "array([[<Axes: title={'center': '0 - 1600 turns'}, xlabel='x', ylabel=\"$x^'$\">,\n",
       "        <Axes: title={'center': '1600 - 3200 turns'}, xlabel='x'>,\n",
       "        <Axes: title={'center': '3200 - 4800 turns'}, xlabel='x'>,\n",
       "        <Axes: title={'center': '4800 - 6400 turns'}, xlabel='x'>,\n",
       "        <Axes: title={'center': '6400 - 8000 turns'}, xlabel='x'>],\n",
       "       [<Axes: xlabel='y', ylabel=\"$y^'$\">, <Axes: xlabel='y'>,\n",
       "        <Axes: xlabel='y'>, <Axes: xlabel='y'>, <Axes: xlabel='y'>]],\n",
       "      dtype=object)"
      ]
     },
     "execution_count": 36,
     "metadata": {},
     "output_type": "execute_result"
    }
   ],
   "source": [
    "Exchange_single(X_hist, \"Single particle AC Sextupole.png\", 5, 2)"
   ]
  },
  {
   "cell_type": "code",
   "execution_count": 37,
   "id": "f28fce0e",
   "metadata": {},
   "outputs": [],
   "source": [
    "plt.plot(Eps_x, label = r\"$\\epsilon_x$\")\n",
    "plt.plot(Eps_y, label = r\"$\\epsilon_y$\")\n",
    "\n",
    "kernel_size = 500\n",
    "kernel = np.ones(kernel_size) / kernel_size\n",
    "Eps_x_smooth = np.convolve(Eps_x, kernel, mode='valid')\n",
    "Eps_y_smooth = np.convolve(Eps_y, kernel, mode='valid')\n",
    "plt.plot(Eps_x_smooth, color = \"blue\", label = r\"$\\overline{\\epsilon_x}$\")\n",
    "plt.plot(Eps_y_smooth, color = \"red\", label = r\"$\\overline{\\epsilon_y}$\")\n",
    "plt.xlabel(\"# turns\")\n",
    "plt.ylabel(r\"$\\epsilon$\")\n",
    "plt.title('\"Emittance\" Exchange for AC sextupole')\n",
    "plt.legend()\n",
    "plt.show()"
   ]
  },
  {
   "cell_type": "markdown",
   "id": "ec32aae6",
   "metadata": {},
   "source": [
    "## 3.2 Multiparticle <a name=\"chapter3.2\"></a>"
   ]
  },
  {
   "cell_type": "code",
   "execution_count": 38,
   "id": "e3fa7080",
   "metadata": {},
   "outputs": [],
   "source": [
    "# Multiparticle\n",
    "def AC2(Twiss, N_turns, N_part, j3):\n",
    "    ax, ay, bx, by, gx, gy, eps_x, eps_y, nu_x, nu_y = Twiss\n",
    "    M = M_phase(Twiss)\n",
    "    nu_osc = abs(2*nu_x - nu_y)\n",
    "    Nu_osc = np.linspace(0, nu_osc, N_turns + 1)\n",
    "    t = np.linspace(0, N_turns, N_turns + 1)\n",
    "    J3_osc = j3*np.sin(2*np.pi*Nu_osc*t)\n",
    "    \n",
    "    #Bounds of ellipse\n",
    "    x0 = np.sqrt(eps_x/gx)\n",
    "    y0 = np.sqrt(eps_y/gy)\n",
    "    xp0 = np.sqrt(eps_x/bx)\n",
    "    yp0 = np.sqrt(eps_y/by)\n",
    "    Part_x = np.random.uniform(-x0, x0, N_part)\n",
    "    Part_y = np.random.uniform(-y0, y0, N_part)\n",
    "    Part_xp = np.random.uniform(-xp0, xp0, N_part)\n",
    "    Part_yp = np.random.uniform(-yp0, yp0, N_part)\n",
    "    X_i = []\n",
    "    for i in range(N_part):\n",
    "        if gx*Part_x[i]**2 + bx*Part_xp[i]**2 < eps_x and gy*Part_y[i]**2 + by*Part_yp[i]**2 < eps_x:\n",
    "            X_i.append(np.array([Part_x[i], Part_xp[i], Part_y[i], Part_yp[i]]))\n",
    "\n",
    "    N_part = len(X_i)\n",
    "    X_i = np.array(X_i).T\n",
    "\n",
    "    X_hist = np.zeros([N_turns, N_part, 4])\n",
    "    X_hist[0] = X_i.T\n",
    "    X_f = np.zeros([4, N_part])\n",
    "    Eps_x = np.zeros(N_turns)\n",
    "    Eps_y = np.zeros(N_turns)\n",
    "    for i in range(N_turns):\n",
    "        X_f = M @ X_i\n",
    "        x, y = X_f[0], X_f[2]\n",
    "        X_f[1] += J3_osc[i]*x*y\n",
    "        X_f[3] += -J3_osc[i]/2*(y**2 - x**2)\n",
    "        Eps_x[i] = epsilon_multi(X_f[0], X_f[1]) #epsilon(ax, bx, gx, np.max(np.abs(X_f.T[0])), np.max(np.abs(X_f.T[1])))\n",
    "        Eps_y[i] = epsilon_multi(X_f[2], X_f[3]) #epsilon(ay, by, gy, np.max(np.abs(X_f.T[2])), np.max(np.abs(X_f.T[3]))) \n",
    "        X_hist[i] = X_f.T\n",
    "\n",
    "        X_i = X_f\n",
    "\n",
    "    return X_hist, Eps_x, Eps_y"
   ]
  },
  {
   "cell_type": "code",
   "execution_count": 74,
   "id": "ea22f30a",
   "metadata": {},
   "outputs": [
    {
     "data": {
      "text/latex": [
       "$\\displaystyle j_3 = 2.094395$"
      ],
      "text/plain": [
       "<IPython.core.display.Math object>"
      ]
     },
     "metadata": {},
     "output_type": "display_data"
    },
    {
     "name": "stdout",
     "output_type": "stream",
     "text": [
      "Time elapsed: 6.102197885513306\n"
     ]
    }
   ],
   "source": [
    "# Variables\n",
    "\n",
    "#Twiss\n",
    "eps_x = eps_y = 2.5e-6 #m\n",
    "ax = ay = 0\n",
    "bx = 8 #m\n",
    "by = 2 #m\n",
    "gx = (1 + ax**2)/bx\n",
    "gy = (1 + ay**2)/by\n",
    "nu_x = .2\n",
    "nu_y = .42\n",
    "Twiss = ax, ay, bx, by, gx, gy, eps_x, eps_y, nu_x, nu_y\n",
    "\n",
    "#Magnets\n",
    "G_21L = 1\n",
    "L = .75 #m https://www.bnl.gov/cad/accelerator/docs/pdf/rhicconfmanual.pdf p45\n",
    "j3 = G_21L*(8*np.pi)/(np.sqrt(2)*bx*np.sqrt(by)*L) #m^-2\n",
    "display(Math(\"j_3 = %f\"%j3))\n",
    "\n",
    "N_turns = 8000\n",
    "N_part = 1000\n",
    "\n",
    "begin = time.time()\n",
    "X_hist, Eps_x, Eps_y = AC2(Twiss, N_turns, int(N_part/.6), j3)\n",
    "end = time.time()\n",
    "print(\"Time elapsed:\", end - begin)"
   ]
  },
  {
   "cell_type": "code",
   "execution_count": 75,
   "id": "76ca304a",
   "metadata": {},
   "outputs": [
    {
     "data": {
      "text/plain": [
       "<matplotlib.animation.FuncAnimation at 0x7fe5b8040fd0>"
      ]
     },
     "execution_count": 75,
     "metadata": {},
     "output_type": "execute_result"
    }
   ],
   "source": [
    "Animation_multi(X_hist, 50, .5)"
   ]
  },
  {
   "cell_type": "code",
   "execution_count": 41,
   "id": "132f6ab6",
   "metadata": {},
   "outputs": [
    {
     "data": {
      "text/plain": [
       "array([[<Axes: title={'center': '0 turns'}, xlabel='x', ylabel=\"$x^'$\">,\n",
       "        <Axes: title={'center': '2000 turns'}, xlabel='x'>,\n",
       "        <Axes: title={'center': '4000 turns'}, xlabel='x'>,\n",
       "        <Axes: title={'center': '6000 turns'}, xlabel='x'>,\n",
       "        <Axes: title={'center': '8000 turns'}, xlabel='x'>],\n",
       "       [<Axes: xlabel='y', ylabel=\"$y^'$\">, <Axes: xlabel='y'>,\n",
       "        <Axes: xlabel='y'>, <Axes: xlabel='y'>, <Axes: xlabel='y'>]],\n",
       "      dtype=object)"
      ]
     },
     "execution_count": 41,
     "metadata": {},
     "output_type": "execute_result"
    }
   ],
   "source": [
    "Exchange_multi(X_hist, \"Multiparticle AC Sextupole.png\", 5, 1)"
   ]
  },
  {
   "cell_type": "code",
   "execution_count": 42,
   "id": "fa8a132b",
   "metadata": {},
   "outputs": [
    {
     "name": "stdout",
     "output_type": "stream",
     "text": [
      "Ratio = 3.233183274465296\n"
     ]
    }
   ],
   "source": [
    "fig, ax = plt.subplots(figsize = (10, 10))\n",
    "plt.plot(Eps_x, label = r\"$\\epsilon_x$\")\n",
    "plt.plot(Eps_y, label = r\"$\\epsilon_y$\")\n",
    "# kernel_size = N_turns//50\n",
    "# kernel = np.ones(kernel_size) / kernel_size\n",
    "# Eps_x_smooth = np.convolve(Eps_x, kernel, mode='valid')\n",
    "# Eps_y_smooth = np.convolve(Eps_y, kernel, mode='valid')\n",
    "# plt.plot(Eps_x_smooth, color = \"blue\", label = r\"$\\overline{\\epsilon_x}$\")\n",
    "# plt.plot(Eps_y_smooth, color = \"red\", label = r\"$\\overline{\\epsilon_y}$\")\n",
    "ax.set_xlabel(\"# turns\")\n",
    "ax.set_ylabel(r\"$\\epsilon$\")\n",
    "ax.set_title(\"Emittance Exchange via AC Sextupole\")\n",
    "ax.legend()\n",
    "fig.savefig(\"Emittance Exchange via AC Sextupole\")\n",
    "plt.show()\n",
    "print(\"Ratio =\", Eps_x[-1]/Eps_y[-1])\n"
   ]
  },
  {
   "cell_type": "code",
   "execution_count": 49,
   "id": "2e02b25f",
   "metadata": {},
   "outputs": [],
   "source": [
    "Ratio = np.linspace(.0001, 10000, 1000)\n",
    "Lum = (1 + Ratio)/np.sqrt(Ratio)\n",
    "plt.plot(Ratio, Lum)\n",
    "plt.xscale('log')\n",
    "plt.show()"
   ]
  },
  {
   "cell_type": "code",
   "execution_count": null,
   "id": "213d8d19",
   "metadata": {},
   "outputs": [],
   "source": []
  }
 ],
 "metadata": {
  "kernelspec": {
   "display_name": "Python 3 (ipykernel)",
   "language": "python",
   "name": "python3"
  },
  "language_info": {
   "codemirror_mode": {
    "name": "ipython",
    "version": 3
   },
   "file_extension": ".py",
   "mimetype": "text/x-python",
   "name": "python",
   "nbconvert_exporter": "python",
   "pygments_lexer": "ipython3",
   "version": "3.9.2"
  }
 },
 "nbformat": 4,
 "nbformat_minor": 5
}
