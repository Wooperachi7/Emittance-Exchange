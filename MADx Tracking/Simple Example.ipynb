{
 "cells": [
  {
   "cell_type": "code",
   "execution_count": 30,
   "id": "2c42088f",
   "metadata": {},
   "outputs": [
    {
     "name": "stdout",
     "output_type": "stream",
     "text": [
      "Found suitable prebuilt kernel `default_only_xtrack`.\n"
     ]
    }
   ],
   "source": [
    "import numpy as np\n",
    "\n",
    "import xobjects as xo\n",
    "import xtrack as xt\n",
    "import xpart as xp\n",
    "\n",
    "## Generate a simple line\n",
    "line = xt.Line(\n",
    "    elements=[xt.Drift(length=2.),\n",
    "              xt.Multipole(knl=[0, 1.], ksl=[0,0]),\n",
    "              xt.Drift(length=1.),\n",
    "              xt.Multipole(knl=[0, -1.], ksl=[0,0])],\n",
    "    element_names=['drift_0', 'quad_0', 'drift_1', 'quad_1'])\n",
    "\n",
    "## Attach a reference particle to the line (optional)\n",
    "## (defines the reference mass, charge and energy)\n",
    "line.particle_ref = xp.Particles(p0c=6500e9, #eV\n",
    "                                 q0=1, mass0=xp.PROTON_MASS_EV)\n",
    "\n",
    "## Choose a context\n",
    "context = xo.ContextCpu()         # For CPU\n",
    "# context = xo.ContextCupy()      # For CUDA GPUs\n",
    "# context = xo.ContextPyopencl()  # For OpenCL GPUs\n",
    "\n",
    "## Transfer lattice on context and compile tracking code\n",
    "line.build_tracker(_context=context)\n",
    "\n",
    "## Build particle object on context\n",
    "n_part = 200\n",
    "particles = xp.Particles(p0c=6500e9, #eV\n",
    "                        q0=1, mass0=xp.PROTON_MASS_EV,\n",
    "                        x=np.random.uniform(-1e-3, 1e-3, n_part),\n",
    "                        px=np.random.uniform(-1e-5, 1e-5, n_part),\n",
    "                        y=np.random.uniform(-2e-3, 2e-3, n_part),\n",
    "                        py=np.random.uniform(-3e-5, 3e-5, n_part),\n",
    "                        zeta=np.random.uniform(-1e-2, 1e-2, n_part),\n",
    "                        delta=np.random.uniform(-1e-4, 1e-4, n_part),\n",
    "                        _context=context)\n",
    "\n",
    "## Track (saving turn-by-turn data)\n",
    "n_turns = 100\n",
    "line.track(particles, num_turns=n_turns,\n",
    "              turn_by_turn_monitor=True)\n",
    "\n",
    "## Turn-by-turn data is available at:\n",
    "xData = np.array(list(line.record_last_track.x)).T\n",
    "pxData = np.array(list(line.record_last_track.px)).T\n",
    "# etc..."
   ]
  },
  {
   "cell_type": "code",
   "execution_count": 35,
   "id": "5fab389e",
   "metadata": {},
   "outputs": [
    {
     "name": "stderr",
     "output_type": "stream",
     "text": [
      "/var/folders/r3/ccbllzdn2pb3wzn_b988y1n80000gp/T/ipykernel_45211/1910802291.py:17: MatplotlibDeprecationWarning: Passing the valinit parameter of __init__() positionally is deprecated since Matplotlib 3.7; the parameter will become keyword-only two minor releases later.\n",
      "  turn_slider = Slider(ax_turn_slider, \"turns\", 0, n_turns - 1, init_turn, valstep = 1)\n"
     ]
    },
    {
     "data": {
      "text/plain": [
       "8981"
      ]
     },
     "execution_count": 35,
     "metadata": {},
     "output_type": "execute_result"
    }
   ],
   "source": [
    "import matplotlib.pyplot as plt\n",
    "from matplotlib.widgets import Slider\n",
    "import gc\n",
    "%matplotlib qt\n",
    "# import warnings\n",
    "# import matplotlib.cbook\n",
    "# warnings.filterwarnings(\"ignore\",category=matplotlib.cbook.MatplotlibDeprecationWarning)\n",
    "\n",
    "\n",
    "fig, ax = plt.subplots()\n",
    "init_turn = 0\n",
    "plot_phase, = ax.plot(xData[init_turn], pxData[init_turn], 'o')\n",
    "ax.set_xlim([-5e-3, 5e-3])\n",
    "ax.set_ylim([-1e-3, 1e-3])\n",
    "fig.subplots_adjust(left=0.25, bottom=0.25)\n",
    "ax_turn_slider = fig.add_axes([0.25, 0.1, 0.65, 0.03])\n",
    "turn_slider = Slider(ax_turn_slider, \"turns\", 0, n_turns - 1, init_turn, valstep = 1)\n",
    "\n",
    "def update(val):\n",
    "    plot_phase.set_xdata(xData[turn_slider.val])\n",
    "    plot_phase.set_ydata(pxData[turn_slider.val])\n",
    "    fig.canvas.draw_idle()\n",
    "\n",
    "turn_slider.on_changed(update)\n",
    "plt.show()\n",
    "\n",
    "gc.collect()"
   ]
  },
  {
   "cell_type": "code",
   "execution_count": 36,
   "id": "79d7c0d7",
   "metadata": {},
   "outputs": [
    {
     "data": {
      "text/plain": [
       "10061"
      ]
     },
     "execution_count": 36,
     "metadata": {},
     "output_type": "execute_result"
    }
   ],
   "source": [
    "gc.collect()"
   ]
  },
  {
   "cell_type": "code",
   "execution_count": null,
   "id": "1a7dc8b7",
   "metadata": {},
   "outputs": [],
   "source": []
  }
 ],
 "metadata": {
  "kernelspec": {
   "display_name": "Python 3 (ipykernel)",
   "language": "python",
   "name": "python3"
  },
  "language_info": {
   "codemirror_mode": {
    "name": "ipython",
    "version": 3
   },
   "file_extension": ".py",
   "mimetype": "text/x-python",
   "name": "python",
   "nbconvert_exporter": "python",
   "pygments_lexer": "ipython3",
   "version": "3.9.2"
  }
 },
 "nbformat": 4,
 "nbformat_minor": 5
}
